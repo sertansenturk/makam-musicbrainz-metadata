{
 "cells": [
  {
   "cell_type": "code",
   "execution_count": 1,
   "metadata": {
    "collapsed": true
   },
   "outputs": [],
   "source": [
    "import os\n",
    "from pprint import pprint\n",
    "from makammusicbrainz.AudioMetadata import AudioMetadata\n",
    "from makammusicbrainz.WorkMetadata import WorkMetadata\n"
   ]
  },
  {
   "cell_type": "code",
   "execution_count": 2,
   "metadata": {
    "collapsed": false,
    "scrolled": true
   },
   "outputs": [
    {
     "name": "stdout",
     "output_type": "stream",
     "text": [
      "{'artist_credits': [{'mbid': 'f4019a48-bda2-4718-8b51-b2d452b8a716',\n",
      "                     'name': 'Turkish Ottoman Classical Music Ensemble'}],\n",
      " 'artists': [{'attribute-list': ['kanun'],\n",
      "              'mbid': '3e753aab-d842-481e-81ea-74918ab1fb04',\n",
      "              'name': u'C\\xfcneyt Kosal',\n",
      "              'type': 'instrument'},\n",
      "             {'attribute-list': ['ney'],\n",
      "              'mbid': '66f06c81-daec-4530-bd12-5f3b450c1857',\n",
      "              'name': u'Ali Do\\u011fan Ergin',\n",
      "              'type': 'instrument'},\n",
      "             {'attribute-list': [u'classical kemen\\xe7e'],\n",
      "              'mbid': '92805785-a644-43f7-8bd8-4dd51bf48529',\n",
      "              'name': u'C\\xfcneyd Orhon',\n",
      "              'type': 'instrument'},\n",
      "             {'mbid': 'ad21dcd0-0028-4096-81b4-01c20bb179e0',\n",
      "              'name': 'Recep Birgit',\n",
      "              'type': 'vocal'},\n",
      "             {'mbid': 'd7e8c73c-66bc-4200-af5e-cac351cdab15',\n",
      "              'name': 'Robert Garfias',\n",
      "              'type': 'publishing'},\n",
      "             {'mbid': 'd7e8c73c-66bc-4200-af5e-cac351cdab15',\n",
      "              'name': 'Robert Garfias',\n",
      "              'type': 'recording'},\n",
      "             {'attribute-list': ['tanbur'],\n",
      "              'mbid': 'eb150720-40d5-4da9-8c8b-b149601c73e5',\n",
      "              'name': u'Necdet Ya\\u015far',\n",
      "              'type': 'instrument'}],\n",
      " 'bit_rate': 56,\n",
      " 'duration': 191,\n",
      " 'form': [{'attribute_key': u'sarki',\n",
      "           'mb_attribute': u'\\u015eark\\u0131',\n",
      "           'source': 'http://musicbrainz.org/work/d1451819-125a-489e-987f-66afe227749b'},\n",
      "          {'attribute_key': u'sarki',\n",
      "           'mb_attribute': u'\\u015eark\\u0131',\n",
      "           'source': 'http://musicbrainz.org/work/ec05ec50-2ca6-480f-ab65-44390fa6569a'},\n",
      "          {'attribute_key': u'taksim',\n",
      "           'mb_tag': 'taksim',\n",
      "           'source': 'http://musicbrainz.org/recording/635530df-8e13-4587-a94d-32f3c1643ca6'}],\n",
      " 'makam': [{'attribute_key': u'huzzam',\n",
      "            'mb_attribute': u'H\\xfczzam',\n",
      "            'source': 'http://musicbrainz.org/work/d1451819-125a-489e-987f-66afe227749b'},\n",
      "           {'attribute_key': u'huzzam',\n",
      "            'mb_attribute': u'H\\xfczzam',\n",
      "            'source': 'http://musicbrainz.org/work/ec05ec50-2ca6-480f-ab65-44390fa6569a'},\n",
      "           {'attribute_key': u'huzzam',\n",
      "            'mb_tag': u'h\\xfczzam',\n",
      "            'source': 'http://musicbrainz.org/recording/635530df-8e13-4587-a94d-32f3c1643ca6'}],\n",
      " 'mbid': '635530df-8e13-4587-a94d-32f3c1643ca6',\n",
      " 'path': 'sampledata/huzzam_fasil.mp3',\n",
      " 'releases': [],\n",
      " 'sampling_frequency': 48000,\n",
      " 'title': u'H\\xfczzam Fasil',\n",
      " 'usul': [{'attribute_key': u'aksak',\n",
      "           'mb_attribute': 'Aksak',\n",
      "           'source': 'http://musicbrainz.org/work/d1451819-125a-489e-987f-66afe227749b'},\n",
      "          {'attribute_key': u'ciftesofyan',\n",
      "           'mb_attribute': u'\\xc7iftesofyan',\n",
      "           'source': 'http://musicbrainz.org/work/ec05ec50-2ca6-480f-ab65-44390fa6569a'},\n",
      "          {'attribute_key': u'serbest',\n",
      "           'mb_tag': 'serbest',\n",
      "           'source': 'http://musicbrainz.org/recording/635530df-8e13-4587-a94d-32f3c1643ca6'}],\n",
      " 'works': [{'mbid': 'd1451819-125a-489e-987f-66afe227749b',\n",
      "            'title': u'G\\xf6n\\xfcl Verdim Bir Civane'},\n",
      "           {'mbid': 'ec05ec50-2ca6-480f-ab65-44390fa6569a',\n",
      "            'title': u'Ey G\\xfcl Ba\\u011f-\\u0131 Eda'}]}\n"
     ]
    }
   ],
   "source": [
    "# Get audio metadata\n",
    "audioMetadata = AudioMetadata(print_warnings=True)\n",
    "\n",
    "mp3file = os.path.join('sampledata', 'huzzam_fasil.mp3')\n",
    "audio_meta = audioMetadata.from_musicbrainz(mp3file, get_work_attributes=True)\n",
    "\n",
    "pprint(audio_meta)\n"
   ]
  },
  {
   "cell_type": "code",
   "execution_count": 3,
   "metadata": {
    "collapsed": false,
    "scrolled": true
   },
   "outputs": [
    {
     "name": "stdout",
     "output_type": "stream",
     "text": [
      "[{'composer': {'mbid': '1ab5a8c5-4693-43e4-809d-353990423938',\n",
      "               'name': 'Sultan III. Selim'},\n",
      "  'form': [{'attribute_key': u'sarki',\n",
      "            'mb_attribute': u'\\u015eark\\u0131',\n",
      "            'source': 'http://musicbrainz.org/work/d1451819-125a-489e-987f-66afe227749b'}],\n",
      "  'language': 'tur',\n",
      "  'lyricist': {'mbid': '1ab5a8c5-4693-43e4-809d-353990423938',\n",
      "               'name': 'Sultan III. Selim'},\n",
      "  'makam': [{'attribute_key': u'huzzam',\n",
      "             'mb_attribute': u'H\\xfczzam',\n",
      "             'source': 'http://musicbrainz.org/work/d1451819-125a-489e-987f-66afe227749b'}],\n",
      "  'mbid': 'd1451819-125a-489e-987f-66afe227749b',\n",
      "  'recordings': [{'mbid': '34924045-1f18-4417-9d5d-62135a0407bd',\n",
      "                  'title': u'H\\xfczzam Fas\\u0131l'},\n",
      "                 {'mbid': '470c6b30-22dd-465e-b695-14aa594c2426',\n",
      "                  'title': u'H\\xfczzam \\u015eark\\u0131'},\n",
      "                 {'mbid': '5f4ea98f-66fd-4991-87b2-eabdce26ab66',\n",
      "                  'title': u'G\\xf6n\\xfcl Verdim Bir Civane'},\n",
      "                 {'mbid': '635530df-8e13-4587-a94d-32f3c1643ca6',\n",
      "                  'title': u'H\\xfczzam Fasil'}],\n",
      "  'scores': [u'huzzam--sarki--aksak--gonul_verdim--iii_selim'],\n",
      "  'title': u'G\\xf6n\\xfcl Verdim Bir Civane',\n",
      "  'usul': [{'attribute_key': u'aksak',\n",
      "            'mb_attribute': 'Aksak',\n",
      "            'source': 'http://musicbrainz.org/work/d1451819-125a-489e-987f-66afe227749b'}]},\n",
      " {'composer': {'mbid': '81081f45-a36e-4248-9d33-43d4a3445f6d',\n",
      "               'name': 'Dede Efendi'},\n",
      "  'form': [{'attribute_key': u'sarki',\n",
      "            'mb_attribute': u'\\u015eark\\u0131',\n",
      "            'source': 'http://musicbrainz.org/work/ec05ec50-2ca6-480f-ab65-44390fa6569a'}],\n",
      "  'language': 'ota',\n",
      "  'lyricist': {'mbid': '125ec42a-7229-4250-afc5-e057484327fe',\n",
      "               'name': '[unknown]'},\n",
      "  'makam': [{'attribute_key': u'huzzam',\n",
      "             'mb_attribute': u'H\\xfczzam',\n",
      "             'source': 'http://musicbrainz.org/work/ec05ec50-2ca6-480f-ab65-44390fa6569a'}],\n",
      "  'mbid': 'ec05ec50-2ca6-480f-ab65-44390fa6569a',\n",
      "  'recordings': [{'mbid': '34924045-1f18-4417-9d5d-62135a0407bd',\n",
      "                  'title': u'H\\xfczzam Fas\\u0131l'},\n",
      "                 {'mbid': '3799145c-529c-41d2-998a-948a9292f4d8',\n",
      "                  'title': u'Ey G\\xfcl-i Ba\\u011f-\\u0131 Eda'},\n",
      "                 {'mbid': '5b26b215-c190-4893-92a2-8e51b6f90ce7',\n",
      "                  'title': u'H\\xfczzam \\u015eark\\u0131 / Ey G\\xfcl-i Ba\\u011f-\\u0131 Eda'},\n",
      "                 {'mbid': '635530df-8e13-4587-a94d-32f3c1643ca6',\n",
      "                  'title': u'H\\xfczzam Fasil'},\n",
      "                 {'mbid': '83ae9b76-c51d-4fb7-bcaa-1d02df1a8247',\n",
      "                  'title': u'Ey G\\xfcl Ba\\u011f-\\u0131 Eda'},\n",
      "                 {'mbid': 'c6089405-6f18-4562-8c24-fff2adc42eee',\n",
      "                  'title': u'Ey G\\xfcl-i B\\xe2\\u011f-\\u0131 Ed\\xe2 (H\\xfczzam \\u015eark\\u0131)'},\n",
      "                 {'mbid': 'd4ac070b-ff98-40d9-9bd9-cb7f5cb25e2f',\n",
      "                  'title': u'Ey G\\xfcl-i Ba\\u011f-\\u0131 Eda Sana Oldum M\\xfcptela'},\n",
      "                 {'mbid': 'de6303ac-c45c-44fc-a91d-fd58c01b4aa5',\n",
      "                  'title': u'Ey G\\xfcli Ba\\u011f\\u0131 Eda'}],\n",
      "  'scores': [u'huzzam--sarki--ciftesofyan--ey_gul-i--dede_efendi'],\n",
      "  'title': u'Ey G\\xfcl Ba\\u011f-\\u0131 Eda',\n",
      "  'usul': [{'attribute_key': u'ciftesofyan',\n",
      "            'mb_attribute': u'\\xc7iftesofyan',\n",
      "            'source': 'http://musicbrainz.org/work/ec05ec50-2ca6-480f-ab65-44390fa6569a'}]}]\n"
     ]
    }
   ],
   "source": [
    "# get work metadata\n",
    "workMetadata = WorkMetadata(print_warnings=True)\n",
    "\n",
    "work_meta = []\n",
    "for w in audio_meta['works']:\n",
    "    work_meta.append(workMetadata.from_musicbrainz(w['mbid']))\n",
    "\n",
    "pprint(work_meta)\n"
   ]
  }
 ],
 "metadata": {
  "kernelspec": {
   "display_name": "Python 2",
   "language": "python",
   "name": "python2"
  },
  "language_info": {
   "codemirror_mode": {
    "name": "ipython",
    "version": 2
   },
   "file_extension": ".py",
   "mimetype": "text/x-python",
   "name": "python",
   "nbconvert_exporter": "python",
   "pygments_lexer": "ipython2",
   "version": "2.7.6"
  }
 },
 "nbformat": 4,
 "nbformat_minor": 0
}
